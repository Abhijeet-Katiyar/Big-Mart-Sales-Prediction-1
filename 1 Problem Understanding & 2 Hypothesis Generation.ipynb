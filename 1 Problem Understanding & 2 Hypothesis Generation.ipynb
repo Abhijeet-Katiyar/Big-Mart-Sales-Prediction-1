{
 "cells": [
  {
   "cell_type": "markdown",
   "metadata": {},
   "source": [
    "# BIG MART SALES PROBLEM\n",
    "[Link to Problem](https://datahack.analyticsvidhya.com/contest/practice-problem-big-mart-sales-iii/)\n",
    "\n",
    "### References:\n",
    "1. [Ref-1](https://www.analyticsvidhya.com/blog/2016/02/bigmart-sales-solution-top-20/)"
   ]
  },
  {
   "cell_type": "markdown",
   "metadata": {},
   "source": [
    "# Project Flow:\n",
    "**The following is the list of the steps that I'll be taking to work on this dataset:**\n",
    "1. Understanding Problem Statement\n",
    "2. Hypothesis Generation\n",
    "3. Data Exploration (before Data Preprocessing)\n",
    "4. Data Preprocessing\n",
    "5. Data Understanding (after Data Preprocessing)\n",
    "6. Modeling Phase\n",
    "7. Evaluation Phase\n",
    "8. Deployment Phase"
   ]
  },
  {
   "cell_type": "markdown",
   "metadata": {},
   "source": [
    "# 1. Undestanding Problem Statement"
   ]
  },
  {
   "cell_type": "markdown",
   "metadata": {},
   "source": [
    "## Problem Statement\n",
    "The data scientists at BigMart have collected 2013 sales data for 1559 products across 10 stores in different cities. Also, certain attributes of each product and store have been defined. The **aim** is to build a predictive model and find out the sales of each product at a particular store.<br>\n",
    "\n",
    "Using this model, BigMart will try to understand the properties of products and stores which play a key role in increasing sales.<br>\n",
    "\n",
    "Please note that the data may have missing values as some stores might not report all the data due to technical glitches. Hence, it will be required to treat them accordingly."
   ]
  },
  {
   "cell_type": "markdown",
   "metadata": {},
   "source": [
    "**OUR AIM:** As evident from the problem statement given above our AIM is to build a predictive model that predicts the sale of a particular product at a particular store.\n",
    "\n",
    "**BIG MART'S AIM:** With the help of this our client \"Big Mart\" will try to increase their sales by understanding the properties and features of different products and stores."
   ]
  },
  {
   "cell_type": "markdown",
   "metadata": {},
   "source": [
    "# 2. Hypothesis Generation"
   ]
  },
  {
   "cell_type": "markdown",
   "metadata": {},
   "source": [
    "In this phase I tried to hypothesise the factors which according to me could impact the outcome which we want to predict, i.e. <i>The sale of a particular **product** at a particular **store**.</i>\n",
    "\n",
    "NOTE: Big Mart sells 1559 products across 10 stores."
   ]
  },
  {
   "cell_type": "markdown",
   "metadata": {},
   "source": [
    "## Hypotheses about Product:\n",
    "1. **Region:** A particular product maybe liked at some stores and not liked at some stores because of the region.\n",
    "2. **Age Group:** A product may be preferred by a particular age group and not preferred by another, so we need to see what is the age group of people living in the viscinity of a store and keep more products related to their needs.\n",
    "3. **Cheap and Best:** Cheap as well as branded products have a better chance of selling.\n",
    "4. **Discounts:** Products along which discounts are given or products under an offer have a better chance of getting sold.\n",
    "5. **Wealthy People- Expensive Products; Middle Class- Cheaper Products** If the people living near the store are wealthy then would prefer buying branded and expensive products, while if the store is in a region where the people of lower to middle class live then their preference will be considerably cheaper products.\n",
    "6. **Attractive Packaging:** A product having an attractive packaging will be sold more as compared to products having not so good packaging.\n",
    "7. **Location of the Product in Store:** A place where the item is kept, and with which item it is kept, highly determines whether it will be sold or not. If a product is placed at a place where customers cannot see it easily however good the product maybe it may not be sold."
   ]
  },
  {
   "cell_type": "markdown",
   "metadata": {},
   "source": [
    "## Hypothesis about Store:\n",
    "1. **Customer Feedback:** The store which takes feedback from it's customers and work accordingly will've better sales.\n",
    "2. **Population near Store:** If the store is in a region which is densely populated then it will have better income.\n",
    "3. **Income of People in the region:** The store located in a region which has people having good income may have better income than stores located in regions having po\n",
    "4. **Marketing:** The store which has a proper marketing strategy and budget will have better income.\n",
    "5. **Product Variety:** The store which offers a good variety as well as has better options for customers to select from different brands will have better income.\n",
    "6. **Location:** The income of the store will be dependent on whether the store is in a Tier1, Tier2, Tier3 city.\n",
    "7. **Friendly Staff:** If the store has staff which has friendly towards it's customers then, customers are more likely to come again to the same store.\n"
   ]
  }
 ],
 "metadata": {
  "kernelspec": {
   "display_name": "Python 3",
   "language": "python",
   "name": "python3"
  },
  "language_info": {
   "codemirror_mode": {
    "name": "ipython",
    "version": 3
   },
   "file_extension": ".py",
   "mimetype": "text/x-python",
   "name": "python",
   "nbconvert_exporter": "python",
   "pygments_lexer": "ipython3",
   "version": "3.7.2"
  }
 },
 "nbformat": 4,
 "nbformat_minor": 2
}
