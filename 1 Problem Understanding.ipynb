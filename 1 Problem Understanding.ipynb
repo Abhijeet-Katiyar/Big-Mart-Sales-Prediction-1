{
 "cells": [
  {
   "cell_type": "markdown",
   "metadata": {},
   "source": [
    "# BIG MART SALES PROBLEM\n",
    "[Link to Problem](https://datahack.analyticsvidhya.com/contest/practice-problem-big-mart-sales-iii/)"
   ]
  },
  {
   "cell_type": "markdown",
   "metadata": {},
   "source": [
    "# Project Flow:\n",
    "**The following is the list of the steps that I'll be taking to work on this dataset:**<br>\n",
    "1. Understanding the Problem Statement\n",
    "\n",
    "\n",
    "2. Data Understanding<br>\n",
    "     **a.** Collect the Data<br>\n",
    "     **b.** Initial Exploratory Data Analysis<br>\n",
    "\n",
    "\n",
    "3. Data Preparation<br>\n",
    "     **a.** Data Cleaning\n",
    "\n",
    "\n",
    "4. Final Exploratory Data Analysis<br>\n",
    "     **a.** Univariate Data Analysis<br>\n",
    "     **b.** Multivariate Data Analysis<br>\n",
    "     **c.** Encoding Categorical Variables for Modeling Phase\n",
    "\n",
    "\n",
    "5. Modeling Phase\n",
    "\n",
    "\n",
    "6. Evaluation Phase\n",
    "\n",
    "\n",
    "7. Deployment Phase"
   ]
  },
  {
   "cell_type": "markdown",
   "metadata": {},
   "source": [
    "# 1. Undestanding Problem Statement"
   ]
  },
  {
   "cell_type": "markdown",
   "metadata": {},
   "source": [
    "## Problem Statement\n",
    "The data scientists at BigMart have collected 2013 sales data for 1559 products across 10 stores in different cities. Also, certain attributes of each product and store have been defined. The **aim** is to build a predictive model and find out the sales of each product at a particular store.<br>\n",
    "\n",
    "Using this model, BigMart will try to understand the properties of products and stores which play a key role in increasing sales.<br>\n",
    "\n",
    "Please note that the data may have missing values as some stores might not report all the data due to technical glitches. Hence, it will be required to treat them accordingly."
   ]
  },
  {
   "cell_type": "markdown",
   "metadata": {},
   "source": [
    "**OUR AIM:** As evident from the problem statement given above our AIM is to build a predictive model that predicts the sale of a particular product at a particular store.\n",
    "\n",
    "**BIG MART'S AIM:** With the help of this our client \"Big Mart\" will try to increase their sales by understanding the properties and features of different products and stores."
   ]
  },
  {
   "cell_type": "markdown",
   "metadata": {},
   "source": [
    "## Meta Data\n",
    "**List of all Columns in the dataset:**\n",
    "![title](data_meaning.jpg)"
   ]
  },
  {
   "cell_type": "markdown",
   "metadata": {},
   "source": [
    "### TARGET VARIABLE (QUANTITATIVE)\n",
    "**Item_Outlet_Sales**"
   ]
  },
  {
   "cell_type": "markdown",
   "metadata": {},
   "source": [
    "### CATEGORICAL Predictor VARIABLES \n",
    "List of Categorical Variables are:\n",
    "1. **Item_Identifier**\n",
    "2. **Item_Fat_Content** \n",
    "3. **Item_Type** \n",
    "4. **Outlet_Identifier**\n",
    "5. **Outlet_Size**\n",
    "6. **Outlet_Location_Type**\n",
    "7. **Outlet_Type**"
   ]
  },
  {
   "cell_type": "markdown",
   "metadata": {},
   "source": [
    "### QUANTITATIVE Predictor VARIABLES\n",
    "List of Quantitative Variables are:\n",
    "1. **Item_Weight**\n",
    "2. **Item_Visibility**\n",
    "3. **Item_MRP** \n",
    "4. **Outlet_Establishment_Year**"
   ]
  },
 ],
 "metadata": {
  "kernelspec": {
   "display_name": "Python 3",
   "language": "python",
   "name": "python3"
  },
  "language_info": {
   "codemirror_mode": {
    "name": "ipython",
    "version": 3
   },
   "file_extension": ".py",
   "mimetype": "text/x-python",
   "name": "python",
   "nbconvert_exporter": "python",
   "pygments_lexer": "ipython3",
   "version": "3.7.2"
  }
 },
 "nbformat": 4,
 "nbformat_minor": 2
}
